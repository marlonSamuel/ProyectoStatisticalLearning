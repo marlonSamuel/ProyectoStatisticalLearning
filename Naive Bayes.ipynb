{
 "cells": [
  {
   "cell_type": "code",
   "execution_count": 1,
   "metadata": {},
   "outputs": [],
   "source": [
    "import pandas as pd\n",
    "import numpy as np\n",
    "from sklearn.model_selection import train_test_split\n",
    "import global_funcs"
   ]
  },
  {
   "cell_type": "code",
   "execution_count": 2,
   "metadata": {},
   "outputs": [],
   "source": [
    "X_train = pd.read_csv('X_train.csv')\n",
    "Y_train = pd.read_csv('Y_train.csv')\n",
    "X_valid = pd.read_csv('X_valid.csv')\n",
    "Y_valid = pd.read_csv('Y_valid.csv')"
   ]
  },
  {
   "cell_type": "markdown",
   "metadata": {},
   "source": [
    "### Teorema de Bayes\n",
    "\n",
    "$P(y|X) = \\frac{P(X|y).P(y)}{P(X)}$\n",
    "\n",
    "* Para multiples caracteristicas del vector X\n",
    "\n",
    "$X = (X_1,X_2,X_3.....X_n)$\n",
    "\n",
    "$P(y|X) = \\frac{P(X_1|y).P(X_2|y).P(X_3|y)...P(X_n|y).P(y)}{P(X)}$\n",
    "\n",
    "* Seleccionar la clase con la probabilidad mas alta\n",
    "\n",
    "$Y = argmax_y P(y|X) = argmax_y\\frac{P(X_1|y).P(X_2|y).P(X_3|y)...P(X_n|y).P(y)}{P(X)}$\n",
    "\n",
    "$Y = argmax_yP(X_1|y).P(X_2|y).P(X_3|y)...P(X_n|y).P(y)$\n",
    "\n",
    "Tenemos para evitar desbordamiento en multiplicaciones con numeros muy pequeños:\n",
    "\n",
    "$Y = argmax_ylog(P(X_1|y)).log(P(X_2|y)).log(P(X_3|y))...log(P(X_n|y)).log(P(y))$\n"
   ]
  },
  {
   "cell_type": "code",
   "execution_count": 3,
   "metadata": {},
   "outputs": [
    {
     "data": {
      "text/plain": [
       "array([1, 0], dtype=int64)"
      ]
     },
     "execution_count": 3,
     "metadata": {},
     "output_type": "execute_result"
    }
   ],
   "source": [
    "classes = Y_train[\"passenger_survived\"].unique()\n",
    "classes"
   ]
  },
  {
   "cell_type": "code",
   "execution_count": 4,
   "metadata": {},
   "outputs": [],
   "source": [
    "#calcular medias,varianzas y prior para cada clase\n",
    "means = []\n",
    "variances = []\n",
    "priors = []\n",
    "for c in classes:\n",
    "    f = X_train[np.array(Y_train)==c]\n",
    "    mean = f.mean()\n",
    "    var = f.var()\n",
    "    prior = f.shape[0]/len(X_train)\n",
    "    means.append(np.array(mean))\n",
    "    variances.append(np.array(var))\n",
    "    priors.append(np.array(prior))"
   ]
  },
  {
   "cell_type": "markdown",
   "metadata": {},
   "source": [
    "#### Calculo de probabilidades condicionales\n",
    "\n",
    "$P(X_i|Y) = \\frac{1}{\\sqrt{2\\pi\\sigma_y^2}}.exp(-\\frac{(x_i-\\mu)^2}{2\\sigma_y})$\n"
   ]
  },
  {
   "cell_type": "code",
   "execution_count": 5,
   "metadata": {},
   "outputs": [],
   "source": [
    "def getValueProb(c, x):\n",
    "        mean = means[c]\n",
    "        var = variances[c]\n",
    "        numerator = np.exp(- (x-mean)**2 / (2 * var))\n",
    "        denominator = np.sqrt(2 * np.pi * var)\n",
    "        return numerator / denominator"
   ]
  },
  {
   "cell_type": "code",
   "execution_count": 6,
   "metadata": {},
   "outputs": [],
   "source": [
    "def getPosteriors(x):\n",
    "    posts = []\n",
    "    for i,c in enumerate(classes):\n",
    "        prior = np.log(priors[i])#obtenemos la probabilidad de la clase\n",
    "        post = np.sum(np.log(getValueProb(i,x)))\n",
    "        post = post + prior\n",
    "        posts.append(post)\n",
    "    return classes[np.argmax(posts)]#retornamos la probabilidad mayor"
   ]
  },
  {
   "cell_type": "code",
   "execution_count": 7,
   "metadata": {},
   "outputs": [],
   "source": [
    "def report(y_test,y_train,y_pred_test,y_pred_train):\n",
    "    report = global_funcs.getReport(y_test,y_train,y_pred_test, y_pred_train)\n",
    "    df_report = pd.DataFrame(report)\n",
    "    return df_report"
   ]
  },
  {
   "cell_type": "code",
   "execution_count": 8,
   "metadata": {},
   "outputs": [],
   "source": [
    "def predict(X_train, Y_train, X_test, Y_test):\n",
    "        y_pred_test = [getPosteriors(x) for x in np.array(X_test)]\n",
    "        y_pred_train = [getPosteriors(x) for x in np.array(X_train)]\n",
    "        df_report = report(Y_test,Y_train,y_pred_test,y_pred_train)\n",
    "        return df_report"
   ]
  },
  {
   "cell_type": "code",
   "execution_count": 9,
   "metadata": {},
   "outputs": [
    {
     "data": {
      "image/png": "[encoded data removed]",
      "text/plain": [
       "<Figure size 864x864 with 2 Axes>"
      ]
     },
     "metadata": {
      "needs_background": "light"
     },
     "output_type": "display_data"
    },
    {
     "name": "stdout",
     "output_type": "stream",
     "text": [
      "verdaderos positivos: 39\n",
      "falsos positivos: 15\n",
      "verdaderos negativos: 76\n",
      "falsos negativos: 13\n",
      "              precision    recall  f1-score   support\n",
      "\n",
      "           0       0.85      0.84      0.84        91\n",
      "           1       0.72      0.75      0.74        52\n",
      "\n",
      "    accuracy                           0.80       143\n",
      "   macro avg       0.79      0.79      0.79       143\n",
      "weighted avg       0.81      0.80      0.80       143\n",
      "\n"
     ]
    },
    {
     "data": {
      "text/html": [
       "<div>\n",
       "<style scoped>\n",
       "    .dataframe tbody tr th:only-of-type {\n",
       "        vertical-align: middle;\n",
       "    }\n",
       "\n",
       "    .dataframe tbody tr th {\n",
       "        vertical-align: top;\n",
       "    }\n",
       "\n",
       "    .dataframe thead th {\n",
       "        text-align: right;\n",
       "    }\n",
       "</style>\n",
       "<table border=\"1\" class=\"dataframe\">\n",
       "  <thead>\n",
       "    <tr style=\"text-align: right;\">\n",
       "      <th></th>\n",
       "      <th>metrics_train</th>\n",
       "      <th>metrics_test</th>\n",
       "    </tr>\n",
       "  </thead>\n",
       "  <tbody>\n",
       "    <tr>\n",
       "      <th>Accuracy</th>\n",
       "      <td>0.771529</td>\n",
       "      <td>0.804196</td>\n",
       "    </tr>\n",
       "    <tr>\n",
       "      <th>Precision</th>\n",
       "      <td>0.704036</td>\n",
       "      <td>0.722222</td>\n",
       "    </tr>\n",
       "    <tr>\n",
       "      <th>Recall:</th>\n",
       "      <td>0.710407</td>\n",
       "      <td>0.750000</td>\n",
       "    </tr>\n",
       "    <tr>\n",
       "      <th>F1_Score:</th>\n",
       "      <td>0.707207</td>\n",
       "      <td>0.735849</td>\n",
       "    </tr>\n",
       "  </tbody>\n",
       "</table>\n",
       "</div>"
      ],
      "text/plain": [
       "           metrics_train  metrics_test\n",
       "Accuracy        0.771529      0.804196\n",
       "Precision       0.704036      0.722222\n",
       "Recall:         0.710407      0.750000\n",
       "F1_Score:       0.707207      0.735849"
      ]
     },
     "execution_count": 9,
     "metadata": {},
     "output_type": "execute_result"
    }
   ],
   "source": [
    "#primer modelo\n",
    "modelo = predict(X_train,Y_train,X_valid,Y_valid)#entrenando el modelo\n",
    "global_funcs.writeInExcel(modelo,\"bitacora_naybe_bayes.xlsx\",'implementación naive bayes likelihood')#escribiendo en bitacora excel\n",
    "modelo"
   ]
  },
  {
   "cell_type": "markdown",
   "metadata": {},
   "source": [
    "### Método con calculo de probabilidades conjuntas\n",
    "\n",
    "Calcular probabilidades conjuntas\n",
    "\n",
    "$Y = argmax_yP(X_1|y).P(X_2|y).P(X_3|y)...P(X_n|y).P(y)$"
   ]
  },
  {
   "cell_type": "code",
   "execution_count": 10,
   "metadata": {},
   "outputs": [],
   "source": [
    "class NaiveBayes():\n",
    "    #obtener las probabilidades a priori, de las clases y de las caracteristicas\n",
    "    def fit(self,X,y):\n",
    "        data = X.copy()\n",
    "        data['passenger_survived'] = y['passenger_survived']\n",
    "        self.priors = data.groupby('passenger_survived').size().div(len(data))#priors probabilities\n",
    "        self.classes = sorted(y['passenger_survived'].unique()) #get classes\n",
    "        self.probs_c = [[],[]]\n",
    "        \n",
    "        for d in data[X.columns.values]:\n",
    "            a = data.groupby([d, 'passenger_survived']).size().div(len(data)).div(self.priors, axis=0, level='passenger_survived')\n",
    "            #self.po = data.groupby(d).size().div(len(data))\n",
    "            for i,p in enumerate(self.probs_c):\n",
    "                pro = [a[i][0],a[i][1]]\n",
    "                p.append(pro)\n",
    "    \n",
    "    #obtiene la probabilidad conjunta de las caracteristicas\n",
    "    def predictPior(self,x,probs_priori):\n",
    "        prob = 1\n",
    "        for i,v in enumerate(probs_priori):\n",
    "            prob *= v[x[i]]\n",
    "        return prob\n",
    "    \n",
    "    #obtiene las predicciones de probabilidad para cada observacion\n",
    "    def _predict(self,x):\n",
    "        probabilities = []\n",
    "        for i, c in enumerate(self.classes):\n",
    "            prior = self.priors[i]\n",
    "            prior_pred = self.predictPior(x,self.probs_c[i])\n",
    "            probabilities.append(prior*prior_pred)\n",
    "        probabilities = probabilities/sum(probabilities)#escalando datos para, distribución de probabilidades\n",
    "        return self.classes[np.argmax(probabilities)],probabilities\n",
    "    \n",
    "    #obteien el total de probabilidades\n",
    "    def predict(self,X):\n",
    "        predictions = []\n",
    "        probabilities = []\n",
    "        for x in X:\n",
    "            pred = self._predict(x)\n",
    "            predictions.append(pred[0])\n",
    "            probabilities.append(pred[1])\n",
    "        return predictions,probabilities\n",
    "    "
   ]
  },
  {
   "cell_type": "code",
   "execution_count": 11,
   "metadata": {},
   "outputs": [],
   "source": [
    "nb = NaiveBayes()\n",
    "nb.fit(X_train,Y_train)\n",
    "y_pred_test = nb.predict(np.array(X_valid))[0]\n",
    "y_pred_train = nb.predict(np.array(X_train))[0]"
   ]
  },
  {
   "cell_type": "code",
   "execution_count": 12,
   "metadata": {},
   "outputs": [
    {
     "data": {
      "image/png": "[encoded data removed]",
      "text/plain": [
       "<Figure size 864x864 with 2 Axes>"
      ]
     },
     "metadata": {
      "needs_background": "light"
     },
     "output_type": "display_data"
    },
    {
     "name": "stdout",
     "output_type": "stream",
     "text": [
      "verdaderos positivos: 39\n",
      "falsos positivos: 12\n",
      "verdaderos negativos: 79\n",
      "falsos negativos: 13\n",
      "              precision    recall  f1-score   support\n",
      "\n",
      "           0       0.86      0.87      0.86        91\n",
      "           1       0.76      0.75      0.76        52\n",
      "\n",
      "    accuracy                           0.83       143\n",
      "   macro avg       0.81      0.81      0.81       143\n",
      "weighted avg       0.82      0.83      0.82       143\n",
      "\n"
     ]
    },
    {
     "data": {
      "text/html": [
       "<div>\n",
       "<style scoped>\n",
       "    .dataframe tbody tr th:only-of-type {\n",
       "        vertical-align: middle;\n",
       "    }\n",
       "\n",
       "    .dataframe tbody tr th {\n",
       "        vertical-align: top;\n",
       "    }\n",
       "\n",
       "    .dataframe thead th {\n",
       "        text-align: right;\n",
       "    }\n",
       "</style>\n",
       "<table border=\"1\" class=\"dataframe\">\n",
       "  <thead>\n",
       "    <tr style=\"text-align: right;\">\n",
       "      <th></th>\n",
       "      <th>metrics_train</th>\n",
       "      <th>metrics_test</th>\n",
       "    </tr>\n",
       "  </thead>\n",
       "  <tbody>\n",
       "    <tr>\n",
       "      <th>Accuracy</th>\n",
       "      <td>0.778559</td>\n",
       "      <td>0.825175</td>\n",
       "    </tr>\n",
       "    <tr>\n",
       "      <th>Precision</th>\n",
       "      <td>0.723005</td>\n",
       "      <td>0.764706</td>\n",
       "    </tr>\n",
       "    <tr>\n",
       "      <th>Recall:</th>\n",
       "      <td>0.696833</td>\n",
       "      <td>0.750000</td>\n",
       "    </tr>\n",
       "    <tr>\n",
       "      <th>F1_Score:</th>\n",
       "      <td>0.709677</td>\n",
       "      <td>0.757282</td>\n",
       "    </tr>\n",
       "  </tbody>\n",
       "</table>\n",
       "</div>"
      ],
      "text/plain": [
       "           metrics_train  metrics_test\n",
       "Accuracy        0.778559      0.825175\n",
       "Precision       0.723005      0.764706\n",
       "Recall:         0.696833      0.750000\n",
       "F1_Score:       0.709677      0.757282"
      ]
     },
     "execution_count": 12,
     "metadata": {},
     "output_type": "execute_result"
    }
   ],
   "source": [
    "modelo2 = report(Y_valid,Y_train,y_pred_test,y_pred_train)\n",
    "global_funcs.writeInExcel(modelo2,\"bitacora_naybe_bayes.xlsx\",'implementación naive bayes solo probabilidades conjuntas')#escribiendo en bitacora excel\n",
    "modelo2"
   ]
  },
  {
   "cell_type": "markdown",
   "metadata": {},
   "source": [
    "## Conclusión\n",
    "Con el modelo 2 obtenemos exactitud del 82% y recall de 75%, obtenemos mejores resultados que con el modelo 1\n",
    "* al ser un modelo NO parametricos, tampoco necesita entrenamiento con gradient descent por ejemplo, unicamente para las pruebas bastará con el dataset de caracteristicas y classes, ya que son pocos datos, no nos preocupamos por el rendimiento.\n",
    "\n",
    "\n",
    "* El dataset de caracteristicas y datos ya se encuentra exportado en un archivo.csv como X_train.csv y Y_train.csv respectivamente, que usaremos para el deployment, se exportara el escript.py de la clase NaibeBayes mas una función para obtener las predicciones.\n",
    "\n"
   ]
  },
  {
   "cell_type": "code",
   "execution_count": 13,
   "metadata": {},
   "outputs": [],
   "source": [
    "test_x = pd.read_csv('X_test.csv')\n",
    "test_y = pd.read_csv('Y_test.csv')\n",
    "from sklearn import metrics"
   ]
  },
  {
   "cell_type": "code",
   "execution_count": 15,
   "metadata": {},
   "outputs": [
    {
     "data": {
      "text/plain": [
       "0.8044692737430168"
      ]
     },
     "execution_count": 15,
     "metadata": {},
     "output_type": "execute_result"
    }
   ],
   "source": [
    "y_pred_t = nb.predict(np.array(test_x))[0]\n",
    "metrics.accuracy_score(test_y,y_pred_t)"
   ]
  },
  {
   "cell_type": "code",
   "execution_count": null,
   "metadata": {},
   "outputs": [],
   "source": []
  }
 ],
 "metadata": {
  "kernelspec": {
   "display_name": "Python 3",
   "language": "python",
   "name": "python3"
  },
  "language_info": {
   "codemirror_mode": {
    "name": "ipython",
    "version": 3
   },
   "file_extension": ".py",
   "mimetype": "text/x-python",
   "name": "python",
   "nbconvert_exporter": "python",
   "pygments_lexer": "ipython3",
   "version": "3.7.3"
  }
 },
 "nbformat": 4,
 "nbformat_minor": 2
}
